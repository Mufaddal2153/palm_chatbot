{
 "cells": [
  {
   "cell_type": "code",
   "execution_count": 7,
   "metadata": {},
   "outputs": [],
   "source": [
    "import google.generativeai as palm\n",
    "from qdrant_client import QdrantClient\n",
    "import os\n",
    "import chromadb, pickle\n",
    "from chromadb.api.types import Documents, Embeddings\n",
    "from google.generativeai.types import HarmCategory\n",
    "from google.generativeai.types import HarmBlockThreshold"
   ]
  },
  {
   "cell_type": "code",
   "execution_count": 8,
   "metadata": {},
   "outputs": [],
   "source": [
    "palm.configure(api_key=\"\")"
   ]
  },
  {
   "cell_type": "code",
   "execution_count": 9,
   "metadata": {},
   "outputs": [],
   "source": [
    "client = chromadb.PersistentClient(path=\"./embeddings/\")"
   ]
  },
  {
   "cell_type": "code",
   "execution_count": 10,
   "metadata": {},
   "outputs": [],
   "source": [
    "models = [m for m in palm.list_models() if 'embedText' in m.supported_generation_methods]\n",
    "model = models[0]"
   ]
  },
  {
   "cell_type": "code",
   "execution_count": 11,
   "metadata": {},
   "outputs": [],
   "source": [
    "count = 0\n",
    "\n",
    "def embed_function(texts: Documents) -> Embeddings:\n",
    "  # Embed the documents using any supported method\n",
    "  all_embeddings = []\n",
    "  global count\n",
    "  for i in texts:\n",
    "    all_embeddings.append(palm.generate_embeddings(model, i)['embedding'])\n",
    "  print(count)\n",
    "  count += 1\n",
    "  return all_embeddings\n",
    "db = client.get_collection(\"palm_hazwoper_test\", embedding_function=embed_function)"
   ]
  },
  {
   "cell_type": "code",
   "execution_count": 12,
   "metadata": {},
   "outputs": [
    {
     "name": "stdout",
     "output_type": "stream",
     "text": [
      "0\n"
     ]
    },
    {
     "data": {
      "text/plain": [
       "\"title\\nSilica Exposure Awareness for Occupational Safety\\ndescription\\nSilica Exposure Awareness for Occupational Safety\\nWhat is Silica?\\nSilica, also known as silicon dioxide (SiO₂), is a naturally occurring mineral in the earth’s crust; often found as stone and sand. Silica occurs in two forms – crystalline silica and amorphous (non-crystalline) silica.\\nCrystalline silica\\nis hard, with a high melting point, and is chemically inactive. Quartz is the most common form of crystalline silica found and used in the creation of various products. Cristobalite and Tridymite are the other two known forms of crystalline silica.\\nSilica is found in a variety of products, and there are various uses for silica, globally. Crystalline silica is used to make pottery, ceramic, and glass products. Also, when sand, stone, or rocks are used to produce other materials; for example, concrete, mortar, bricks, etc., these transformed products also contain silica. Crystalline silica is also found in granite and paints. Amorphous silica on the other hand is often found in the form of silica gel, and is used in food additives, food wrappings, toothpaste, and cosmetics; as this form of silica has been found to have no adverse health effects at levels found naturally in the environment or commercial products.\\nWhat is Respirable Crystalline Silica?\\nRespirable Crystalline Silica is the tiny airborne particles formed when crystalline silica or any silica-containing materials including rocks, stones, concrete, brick, block, and mortar is manipulated by cutting, drilling, sawing, grinding, crushing, or breaking. This dust is deemed to be 100 times smaller than sand grains found on a beach; and is often referred to as ‘silica dust’. Silica dust can easily be inhaled and get into the human respiratory tract causing harm to the health of those exposed to respirable crystalline silica while working with silica-containing materials.\\nSilica and the Construction Industry\\nWorkers in the construction industry are the most exposed to respirable crystalline silica as they participate in work activities that require them to cut, saw, grind, and drill silica-containing materials. Such work activities include mixing concrete and mortar, cutting bricks and blocks, abrasive blasting with sand, crushing and grinding stones or rocks, sanding or drilling into concrete walls, cutting granite, etc. Also subjected to the hazards of silica exposure are the employees of brick, concrete block, and stone or granite countertop manufacturers. Furthermore, people working in excavation and trenching operations are also exposed to respirable crystalline silica due to work activities such as sifting sand; and crushing, grinding, and moving rocks that may disturb silica particles.\\nOSHA’s Respirable Crystalline Silica Standard for the Construction Industry\\nAs such, all construction industry workers must obtain adequate knowledge about working with silica and the dangers of silica exposure. Accordingly, the Occupational Safety and Health Administration (\\nOSHA\\n) has developed and implemented the respirable crystalline silica standard for the construction industry (\\n29 CFR 1926.1153\\n) to support employers in their endeavors to protect employees from silica hazards and limit worker exposures to respirable crystalline silica by adopting the appropriate methods and safeguards.\\nOSHA’s construction industry respirable crystalline silica standard provides flexibility to employers on the different protection methods – specified exposure control methods based on the Silica Table 1 provided in the standard or alternative exposure control methods based on distinct workplace measurements of worker exposure to silica dust and the best ways to limit the permissible exposure limit (PEL) in the workplace by using the\\nHierarchy of Controls\\n.\\nOSHA’s respirable crystalline silica standard for the construction industry specifically requires employers to:\\nCreate and implement a written silica exposure control plan. This plan should identify the silica exposure tasks and detail the methods used to protect workers from silica exposure. The plan must also explain the procedures to restrict access to work areas where high exposures may occur.\\nEnsure a competent person is responsible for implementing the written exposure control plan.\\nIdentify and use reasonable appropriate alternative housekeeping practices to avoid housekeeping practices that could increase workers’ exposure to silica.\\nEnsure workers who are required by the standard to wear a respirator for 30 days or more annually, undergo medical exams every three years. These medical surveillances examinations should include chest X-rays and lung function tests.\\nProvide workers with the appropriate training on work operations that result in silica exposure and ways to limit exposure.\\nMaintain records of exposure measurements, the relevant objective data, and medical examination records of workers as required.\\nSilica Used in Other Industries\\nSilica exposure and awareness are not limited to construction industry workers. Employees in other industries working with silica-containing materials are also in danger of exposure to crystalline silica and silica dust. Popular examples include hydraulic fracturing (fracking) operations and foundry work that requires workers to use sand. Moreover, makers of pottery, ceramic, and glass products are also exposed to silica dust. Therefore, employees exposed to silica in other industries must also be provided with adequate information on silica exposure and gain the appropriate silica awareness training.\\nThese industries, too, are governed by OSHA. OSHA has developed and issued respirable crystalline silica standards for the general industry and maritime (\\n29 CFR 1910.1053\\n) that employers can use to put in place the necessary precautions to reduce silica exposure levels of employees.\\nSilica Exposure Risks and Controls\\nExposure to respirable crystalline silica can result in several health hazards. These illnesses include silicosis, lung cancer, Chronic Obstructive Pulmonary Disease (COPD), kidney disease, activation of latent tuberculosis infections, and autoimmune diseases. Thus, employers must provide the necessary precautions in the workplace to reduce employees’ exposure to silica by implementing a range of appropriate measures as recommended by the OSHA standards. The measures may include a combination of engineering and work practice controls, housekeeping procedures, respiratory protection, medical surveillance, hazard communication, silica air monitoring measures, and silica methods of sample analysis.\\nSilica Awareness Training\\nAn effective way to create awareness of silica exposure and related silica health hazards in the workplace is to provide relevant training to employees. Our\\nsilica awareness online training course\\nwill enable employers to fulfill the training requirements as outlined in the Federal OSHA Regulations 29 CFR 1910.1053 and 29 CFR 1926.1153. Our training program aims to acquaint workers with the hazards associated with exposure to respirable crystalline silica and the hazard control measures that must be implemented to minimize exposure within safe limits to comply with the relevant OSHA respirable crystalline silica standards.\\nSo, enroll today, and learn more about the regulatory requirements of working with crystalline silica-containing materials and the exposure control methods that must be implemented in the worksite to ensure compliance and safeguard the health of workers.\\nReference:\\nSafeSilica. (n.d.). Crystalline Silica: The Science. Website.\\nhttps://safesilica.eu/crystalline-silica-the-science/\\nOSHA. (n.d.). Silica, Crystalline. Website.\\nhttps://www.osha.gov/silica-crystalline\\nOSHA. (n.d.). Construction. Complying with the construction standard. Website\\nhttps://www.osha.gov/silica-crystalline/construction\\nPage Type\\nBlogs\\n\\n\\ntitle\\nGlossary Silica Awareness Training\\ndescription\\nA\\nB\\nC\\nD\\nE\\nF\\nG\\nH\\nI\\nJ\\nK\\nL\\nM\\nN\\nO\\nP\\nQ\\nR\\nS\\nT\\nU\\nV\\nW\\nX\\nY\\nZ\\nAction Level\\nAction level means a concentration of airborne respirable crystalline silica of 25 μg/m3, calculated as an 8-hour TWA.\\nNo Result Found\\nCompetent Person\\nCompetent person means an individual who is capable of identifying existing and foreseeable respirable crystalline silica hazards in the workplace and who has authorization to take prompt corrective measures to eliminate or minimize them. The competent person must have the knowledge and ability necessary to fulfill the responsibilities set forth in paragraph (g) of this section.\\nNo Result Found\\nEmployee Exposure\\nEmployee exposure means the exposure to airborne respirable crystalline silica that would occur if the employee were not using a respirator.\\nNo Result Found\\nNo Result Found\\nHigh-Efficiency Particulate Air [HEPA] Filter\\nHigh-efficiency particulate air [HEPA] filter means a filter that is at least 99.97 percent efficient in removing mono-dispersed particles of 0.3 micrometers in diameter.\\nNo Result Found\\nNo Result Found\\nNo Result Found\\nNo Result Found\\nNo Result Found\\nNo Result Found\\nObjective Data\\nObjective data means information, such as air monitoring data from industry-wide surveys or calculations based on the composition of a substance, demonstrating employee exposure to respirable crystalline silica associated with a particular product or material or a specific process, task, or activity. The data must reflect workplace conditions closely resembling or with a higher exposure potential than the processes, types of material, control methods, work practices, and environmental conditions in the employer's current operations.\\nPhysician or Other Licensed Healthcare Provider (PLHCP)\\nPhysician or other licensed health care professional [PLHCP] means an individual whose legally permitted scope of practice (i.e., license, registration, or certification) allows him or her to independently provide or be delegated the responsibility to provide some or all of the particular health care services required by paragraph (h) of this section.\\nNo Result Found\\nRespirable Crystalline Silica\\nRespirable crystalline silica means quartz, cristobalite, and/or tridymite contained in airborne particles that are determined to be respirable by a sampling device designed to meet the characteristics for respirable-particle-size-selective samplers specified in the International Organization for Standardization (ISO) 7708:1995: Air Quality—Particle Size Fraction Definitions for Health-Related Sampling.\\nSpecialist\\nSpecialist means an American Board-Certified Specialist in Pulmonary Disease or an American Board-Certified Specialist in Occupational Medicine.\\nNo Result Found\\nNo Result Found\\nNo Result Found\\nNo Result Found\\nNo Result Found\\nNo Result Found\\nNo Result Found\\nPage Type\\nStatic\\n\\n\\ntitle\\nLearning Objectives\\nalt_title\\nOSHA Silica Awareness Training\\nhours\\n2\\nprice\\n$29.99\\ncourse_category\\nOSHA Construction Series\\nAvailable in English and Spanish.Do you want to know more about the course? or register/enroll/buy/purchase the course? or try the demo/trial? If you want the demo/registration/course link then go to the webpage https://hazwoper-osha.com/online-courses/silica-awareness-training/ \\ndescription\\nThe core objective of the\\nOSHA Silica Awareness Training\\ncourse is to familiarize workers with the hazards associated with exposure to respirable crystalline silica and hazard controls that must be implemented to minimize exposure within safe limits in compliance with OSHA’s respirable crystalline silica standards for the general industry (\\n29 CFR 1910.1053\\n) and the construction industry (\\n29 CFR 1926.1153\\n).\\nLearning Objectives\\nAfter completing the OSHA Silica Awareness Training course, the student will be able to:\\nUnderstand general requirements of OSHA’s Respirable Silica Standards for the General Industry and the Construction Industry;\\nDefine silica and identify the natural and man-made sources of this compound;\\nRecognize the sources of occupational silica exposure for workers;\\nList the various diseases caused by exposure to respirable crystalline silica;\\nRecall the OSHA-specified action level (AL) and permissible exposure limit (PEL) for respirable crystalline silica;\\nUnderstand the compliance requirements for workers who choose to use specific exposure control methods;\\nUnderstand OSHA’s Respirable Crystalline Silica Standard compliance requirements for workers who choose to use alternate exposure control methods; and\\nUnderstand OSHA requirements relating to exposure control plan, silica relevant respiratory protection, housekeeping, training, and recordkeeping for workers exposed to silica in the workplace.\\n\""
      ]
     },
     "execution_count": 12,
     "metadata": {},
     "output_type": "execute_result"
    }
   ],
   "source": [
    "ret = \"\\n\\n\".join([i for i in db.query(query_texts=[\"what do you know about silica awareness\"], n_results=3)['documents'][0]])\n",
    "ret"
   ]
  },
  {
   "cell_type": "code",
   "execution_count": 13,
   "metadata": {},
   "outputs": [],
   "source": [
    "def get_relevant_passage(query, db):\n",
    "  passage = \"\\n\\n\".join([i for i in db.query(query_texts=[query], n_results=3)['documents'][0]])\n",
    "  return passage"
   ]
  },
  {
   "cell_type": "code",
   "execution_count": 14,
   "metadata": {},
   "outputs": [],
   "source": [
    "def make_prompt(query, relevant):\n",
    "  escaped = relevant.replace(\"'\", \"\").replace('\"', \"\").replace(\"\\n\", \" \")\n",
    "  prompt = (\"\"\"You are a customer support agent for the company \"Hazwoper-osha\", \\\n",
    "    do not play any other role. Use the following pieces of context to answer the question at the end. \\\n",
    "    If you don't know the answer, just say \"I can only answer Hazwoper-OSHA related questions, please contact support \\\n",
    "    if you need further assistance\", don't try to make up an answer. Use five sentences maximum.\n",
    "  \n",
    "  Context: {relevant}\n",
    "Question: {query}\n",
    "Kindly Answer Question:\"\"\").format(query=query, relevant=escaped)\n",
    "\n",
    "  return prompt"
   ]
  },
  {
   "cell_type": "code",
   "execution_count": 15,
   "metadata": {},
   "outputs": [
    {
     "data": {
      "text/plain": [
       "Model(name='models/text-bison-001', base_model_id='', version='001', display_name='Text Bison', description='Model targeted for text generation.', input_token_limit=8196, output_token_limit=1024, supported_generation_methods=['generateText', 'countTextTokens', 'createTunedTextModel'], temperature=0.7, top_p=0.95, top_k=40)"
      ]
     },
     "execution_count": 15,
     "metadata": {},
     "output_type": "execute_result"
    }
   ],
   "source": [
    "text_models = [m for m in palm.list_models() if 'generateText' in m.supported_generation_methods]\n",
    "text_model = text_models[0]\n",
    "text_model"
   ]
  },
  {
   "cell_type": "code",
   "execution_count": 16,
   "metadata": {},
   "outputs": [],
   "source": [
    "def answer(model, query, db, temperature=0.01):\n",
    "  passage = get_relevant_passage(query, db)\n",
    "  prompt = make_prompt(query, passage)\n",
    "  print(\"Prompt: \", prompt)\n",
    "  answer = palm.generate_text(\n",
    "    prompt=prompt,\n",
    "    model=model,\n",
    "    candidate_count=3, \n",
    "    temperature=temperature, \n",
    "    max_output_tokens=1000,\n",
    "    safety_settings = [\n",
    "      {\n",
    "        \"category\": HarmCategory.HARM_CATEGORY_DEROGATORY,\n",
    "        \"threshold\": HarmBlockThreshold.BLOCK_NONE,\n",
    "      },\n",
    "      {\n",
    "        \"category\": HarmCategory.HARM_CATEGORY_TOXICITY,\n",
    "        \"threshold\": HarmBlockThreshold.BLOCK_NONE,\n",
    "      },\n",
    "      {\n",
    "        \"category\": HarmCategory.HARM_CATEGORY_SEXUAL,\n",
    "        \"threshold\": HarmBlockThreshold.BLOCK_NONE,\n",
    "      },\n",
    "      {\n",
    "        \"category\": HarmCategory.HARM_CATEGORY_MEDICAL,\n",
    "        \"threshold\": HarmBlockThreshold.BLOCK_NONE,\n",
    "      },\n",
    "      {\n",
    "        \"category\": HarmCategory.HARM_CATEGORY_DANGEROUS,\n",
    "        \"threshold\": HarmBlockThreshold.BLOCK_NONE,\n",
    "      },\n",
    "      {\n",
    "        \"category\": HarmCategory.HARM_CATEGORY_VIOLENCE,\n",
    "        \"threshold\": HarmBlockThreshold.BLOCK_NONE,\n",
    "      },\n",
    "    ]\n",
    "  )\n",
    "  return answer"
   ]
  },
  {
   "cell_type": "code",
   "execution_count": 19,
   "metadata": {},
   "outputs": [
    {
     "name": "stdout",
     "output_type": "stream",
     "text": [
      "2\n",
      "Prompt:  You are a customer support agent for the company \"Hazwoper-osha\",     do not play any other role. Use the following pieces of context to answer the question at the end.     If you don't know the answer, just say \"I can only answer Hazwoper-OSHA related questions, please contact support     if you need further assistance\", don't try to make up an answer. Use five sentences maximum.\n",
      "  \n",
      "  Context: title Glossary Arc Flash Safety Training (NFPA 70E) description A B C D E F G H I J K L M N O P Q R S T U V W X Y Z ACBM Acceptable means that an installation or equipment is acceptable to the Assistant Secretary of Labor and approved within the meaning of 29 CFR 1910 Subpart S: If it is accepted, or certified, or listed, or labeled, or otherwise determined to be safe by a nationally recognized testing laboratory recognized pursuant to § 1910.7 ; or With respect to an installation or equipment of a kind that no nationally recognized testing laboratory accepts, certifies, lists, labels, or determines to be safe, if it is inspected or tested by another Federal agency, or by a State, municipal, or other local authority responsible for enforcing occupational safety provisions of the National Electrical Code and found in compliance with the provisions of the National Electrical Code as applied in this subpart; or With respect to custom-made equipment or related installations that are designed, fabricated for, and intended for use by a particular customer, if it is determined to be safe for its intended use by its manufacturer on the basis of test data which the employer keeps and makes available for inspection to the Assistant Secretary and his authorized representatives. Accepted An installation is accepted if it has been inspected and found by a nationally recognized testing laboratory to conform to specified plans or procedures of applicable codes. Accessible (as applied to Wiring Methods) Accessible (as applied to wiring methods) means capable of being removed or exposed without damaging the building structure or finish, or not permanently closed in by the structure or finish of the building. (See concealed and  exposed .) Accessible (as applied to Equipment) Accessible (as applied to equipment) means admitting close approach; not guarded by locked doors, elevation, or other effective means. (See readily accessible. Affected Employee An employee whose job requires him/her to operate or use a machine or equipment on which servicing or maintenance is being performed under lockout or tagout, or whose job requires him/her to work in an area in which such servicing or maintenance is being performed. Alternating Current Alternating current is current that reverses direction at a steady rate. You have alternating current coming out of the outlets at your house. The rate at which alternating current reverses is called its frequency. Ampacity The current, in amperes, that a conductor can carry continuously under the conditions of use without exceeding its temperature rating. Appliances Utilization equipment, generally other than industrial, normally built in standardized sizes or types, that is installed or connected as a unit to perform one or more functions. Approved Acceptable to the authority enforcing this subpart. The authority enforcing this subpart is the Assistant Secretary of Labor for Occupational Safety and Health. The definition of acceptable indicates what is acceptable to the Assistant Secretary of Labor and therefore approved within the meaning of 29 CFR 1910 Subpart S . Assistant Secretary Assistant Secretary means the Assistant Secretary of Labor for Occupational Safety and Health, U.S. Department of Labor, or a designee. Arc Flash Boundary According to Article 100 of the NFPA 70E, when an arc flash hazard exists, an approach limit from an arc source at which the incident energy equals 1.2 cal/cm² (5 J/cm²). Arc Flash PPE Category Method Assistant Secretary means the Assistant Secretary of Labor for Occupational Safety and Health, U.S. Department of Labor, or a designee. Arc Flash Boundary There are four categories of arc flash PPE ranging from 1 through 4. Based on the arc flash risk assessment, a category is selected for personnel protection. Arcing The luminous electrical discharge (bright, electrical sparking) through the air that occurs when high voltages exist across a gap between conductors. Arc Performance Thermal Value (APTV) The incident energy on a material or a multi-layer system of materials that results in a 50 percent probability that heat transfer through the specimen is predicted to cause the onset of a second-degree skin burn injury based on the Stoll curve. Armored Cable (Type AC) A fabricated assembly of insulated conductors in a flexible metallic enclosure. Askarel A generic term for a group of non-flammable synthetic, chlorinated hydrocarbons used as electrical insulating media. Askarels of various compositional types are used. The gases produced under arcing conditions, while consisting predominantly of non-combustible hydrogen chloride, can include varying amounts of combustible gases depending upon the askarel type. Attachment Plug (Plug Cap) (Cap) A device that, by insertion in a receptacle, establishes a connection between the conductors of the attached flexible cord and the conductors connected permanently to the receptacle. Authorized Employee A person who locks out or tags out machines or equipment in order to perform servicing or maintenance on that machine or equipment. An affected employee becomes an authorized employee when that employees duties include performing servicing or maintenance covered under this 29 CFR 1910 Subpart S . Bare Conductor See Conductor Bathroom An area including a basin with one or more of the following: a toilet, a tub, or a shower. Battery According to Article 100 of the NFPA 70E, a battery is a system consisting of two or more electrochemical cells connected in series or parallel and capable of storing electrical energy received and that can give it back by reconversion. Battery Room According to Article 100 of the NFPA 70E, a battery room is a room specifically intended for the installation of batteries that have no other protective enclosure. Bonding (Bonded) The permanent joining of metallic parts to form an electrically conductive path that ensures electrical continuity and the capacity to conduct safely any current likely to be imposed. Bonding Jumper A conductor that assures the necessary electrical conductivity between metal parts required to be electrically connected. Branch Circuit The circuit conductors between the final overcurrent device protecting the circuit and the outlets. Building A structure that stands alone or is cut off from adjoining structures by fire walls with all openings therein protected by approved fire doors. Cabinet An enclosure designed either for surface or flush mounting, and provided with a frame, mat, or trim in which a swinging door or doors are or can be hung. Cable Tray System A unit or assembly of units or sections and associated fittings forming a rigid structural system used to securely fasten or support cables and raceways. Cable tray systems include ladders, troughs, channels, solid bottom trays, and other similar structures. Cable Bus An assembly of insulated conductors with fittings and conductor terminations in a completely enclosed, ventilated, protective metal housing. Cell Line An assembly of electrically interconnected electrolytic cells supplied by a source of direct current power. Cell Line Attachments and Auxiliary Equipment Cell line attachments and auxiliary equipment include, but are not limited to, auxiliary tanks, process piping, ductwork, structural supports, exposed cell line conductors, conduits and other raceways, pumps, positioning equipment, and cell cutout or bypass electrical devices. Auxiliary equipment also includes tools, welding machines, crucibles, and other portable equipment used for operation and maintenance within the electrolytic cell line working zone. In the cell line working zone, auxiliary equipment includes the exposed conductive surfaces of ungrounded cranes and crane-mounted cell-servicing equipment. Center Pivot Irrigation Machine A multi-motored irrigation machine that revolves around a central pivot and employs alignment switches or similar devices to control individual motors. Certified Equipment is certified if it bears a label, tag, or other record of certification that the equipment: Has been tested and found by a nationally recognized testing laboratory to meet nationally recognized standards or to be safe for use in a specified manner; or Is of a kind whose production is periodically inspected by a nationally recognized testing laboratory and is accepted by the laboratory as safe for its intended use. Circuit Breaker A device designed to open and close a circuit by non-automatic means, which can open the circuit automatically on a predetermined overcurrent without damage to itself when properly applied within its rating. Class I Locations Class I locations are those in which flammable gases or vapors are or may be present in the air in quantities sufficient to produce explosive or ignitable mixtures. Class I locations include the following: Class I, Division 1 - A Class I, Division 1 location is a location: In which ignitable concentrations of flammable gases or vapors may exist under normal operating conditions; or In which ignitable concentrations of such gases or vapors may exist frequently because of repair or maintenance operations or because of leakage; or In which breakdown or faulty operation of equipment or processes might release ignitable concentrations of flammable gases or vapors, and might also cause simultaneous failure of electric equipment. Note to the definition of Class I, Division 1: This classification usually includes loca  title Glossary Electrical Safety Training (NFPA 70E) description A B C D E F G H I J K L M N O P Q R S T U V W X Y Z Acceptable Acceptable means that an installation or equipment is acceptable to the Assistant Secretary of Labor and approved within the meaning of 29 CFR 1910 Subpart S If it is accepted, or certified, or listed, or labeled, or otherwise determined to be safe by a nationally recognized testing laboratory recognized pursuant to § 1910.7 ; or With respect to an installation or equipment of a kind that no nationally recognized testing laboratory accepts, certifies, lists, labels, or determines to be safe, if it is inspected or tested by another Federal agency, or by a State, municipal, or other local authority responsible for enforcing occupational safety provisions of the National Electrical Code and found in compliance with the provisions of the National Electrical Code as applied in this subpart; or With respect to custom-made equipment or related installations that are designed, fabricated for, and intended for use by a particular customer, if it is determined to be safe for its intended use by its manufacturer on the basis of test data which the employer keeps and makes available for inspection to the Assistant Secretary and his authorized representatives. Accepted An installation is  accepted  if it has been inspected and found by a nationally recognized testing laboratory to conform to specified plans or procedures of applicable codes. Accessible (as applied to Wiring Methods) Accessible (as applied to wiring methods) means capable of being removed or exposed without damaging the building structure or finish, or not permanently closed in by the structure or finish of the building. (See  concealed  and  exposed .) Accessible (as applied to Equipment) Accessible (as applied to equipment) means admitting close approach; not guarded by locked doors, elevation, or other effective means. (See  readily accessible.  Affected Employee An employee whose job requires him/her to operate or use a machine or equipment on which servicing or maintenance is being performed under lockout or tagout, or whose job requires him/her to work in an area in which such servicing or maintenance is being performed. Alternating Current An employee whose job requires him/her to operate or use a machine or equipment on which servicing or maintenance is being performed under lockout or tagout, or whose job requires him/her to work in an area in which such servicing or maintenance is being performed. Ampacity The current, in amperes, that a conductor can carry continuously under the conditions of use without exceeding its temperature rating. Appliances Acceptable to the authority enforcing this subpart. The authority enforcing this subpart is the Assistant Secretary of Labor for Occupational Safety and Health. The definition of acceptable indicates what is acceptable to the Assistant Secretary of Labor and therefore approved within the meaning of 29 CFR 1910 Subpart S. Approved Acceptable to the authority enforcing this subpart. The authority enforcing this subpart is the Assistant Secretary of Labor for Occupational Safety and Health. The definition of acceptable indicates what is acceptable to the Assistant Secretary of Labor and therefore approved within the meaning of 29 CFR 1910 Subpart S . Arc Flash Boundary According to Article 100 of the NFPA 70E, when an arc flash hazard exists, an approach limit from an arc source at which the incident energy equals 1.2 cal/cm 2 (5 J/cm 2 ). Arc Flash PPE Category Method There are four categories of arc flash PPE ranging from 1 through 4. Based on the arc flash risk assessment, a category is selected for personnel protection. Arcing The luminous electrical discharge (bright, electrical sparking) through the air that occurs when high voltages exist across a gap between conductors. Arc Performance Thermal Value (APTV) The incident energy on a material or a multi-layer system of materials that results in a 50 percent probability that heat transfer through the specimen is predicted to cause the onset of a second-degree skin burn injury based on the Stoll curve. Armored Cable (Type AC) A fabricated assembly of insulated conductors in a flexible metallic enclosure. Askarel A generic term for a group of non-flammable synthetic, chlorinated hydrocarbons used as electrical insulating media. Askarels of various compositional types are used. The gases produced under arcing conditions, while consisting predominantly of non-combustible hydrogen chloride, can include varying amounts of combustible gases depending upon the askarel type. Attachment Plug (Plug Cap) (Cap) A device that, by insertion in a receptacle, establishes a connection between the conductors of the attached flexible cord and the conductors connected permanently to the receptacle. Authorized Employee A person who locks out or tags out machines or equipment in order to perform servicing or maintenance on that machine or equipment. An affected employee becomes an authorized employee when that employees duties include performing servicing or maintenance covered under this 29 CFR 1910 Subpart S . Automatic Self-acting, operating by its own mechanism when actuated by some impersonal influence, as, for example, a change in current strength, pressure, temperature, or mechanical configuration. Bare Conductor See Conductor Barrier A physical obstruction that is intended to prevent contact with equipment or live parts or to prevent unauthorized access to a work area. Bathroom An area including a basin with one or more of the following: a toilet, a tub, or a shower. Battery According to Article 100 of the NFPA 70E, a battery is a system consisting of two or more electrochemical cells connected in series or parallel and capable of storing electrical energy received and that can give it back by reconversion. Battery Room According to Article 100 of the NFPA 70E, a battery room is a room specifically intended for the installation of batteries that have no other protective enclosure. Bonding (Bonded) The permanent joining of metallic parts to form an electrically conductive path that ensures electrical continuity and the capacity to conduct safely any current likely to be imposed. Bonding Jumper A conductor that assures the necessary electrical conductivity between metal parts required to be electrically connected. Branch Circuit The circuit conductors between the final overcurrent device protecting the circuit and the outlets. Building A structure that stands alone or is cut off from adjoining structures by fire walls with all openings therein protected by approved fire doors. Cabinet An enclosure designed either for surface or flush mounting, and provided with a frame, mat, or trim in which a swinging door or doors are or can be hung Cable Bus An assembly of insulated conductors with fittings and conductor terminations in a completely enclosed, ventilated, protective metal housing. Cell Line An assembly of electrically interconnected electrolytic cells supplied by a source of direct current power. Cell Line Attachments and Auxiliary Equipment Cell line attachments and auxiliary equipment include, but are not limited to, auxiliary tanks, process piping, ductwork, structural supports, exposed cell line conductors, conduits and other raceways, pumps, positioning equipment, and cell cutout or bypass electrical devices. Auxiliary equipment also includes tools, welding machines, crucibles, and other portable equipment used for operation and maintenance within the electrolytic cell line working zone. In the cell line working zone, auxiliary equipment includes the exposed conductive surfaces of ungrounded cranes and crane-mounted cell-servicing equipment. Center Pivot Irrigation Machine A multi-motored irrigation machine that revolves around a central pivot and employs alignment switches or similar devices to control individual motors. Certified Equipment is certified if it bears a label, tag, or other record of certification that the equipment: Has been tested and found by a nationally recognized testing laboratory to meet nationally recognized standards or to be safe for use in a specified manner; or Is of a kind whose production is periodically inspected by a nationally recognized testing laboratory and is accepted by the laboratory as safe for its intended use. Circuit Breaker A device designed to open and close a circuit by non-automatic means, which can open the circuit automatically on a predetermined overcurrent without damage to itself when properly applied within its rating. Class I Locations Class I locations are those in which flammable gases or vapors are or may be present in the air in quantities sufficient to produce explosive or ignitable mixtures. Class I locations include the following: Class I, Division 1 - A Class I, Division 1 location is a location: In which ignitable concentrations of flammable gases or vapors may exist under normal operating conditions; or In which ignitable concentrations of such gases or vapors may exist frequently because of repair or maintenance operations or because of leakage; or In which breakdown or faulty operation of equipment or processes might release ignitable concentrations of flammable gases or vapors, and might also cause simultaneous failure of electric equipment. Note to the definition of Class I, Division 1: This classification usually includes locations where volatile flammable liq  Alternative Title: Arc Flash Safety Training (NFPA 70E) Price: $39.99 Hours: 2 ----- Question: What is the validity period of the Arc Flash Safety Training (NFPA 70E) certification? Answer: The Arc Flash Safety Training (NFPA 70E) certification has 3-year validity.  ----- Question: How do I receive my safety training certification on completion of the Arc Flash Safety Training (NFPA 70E) course?  Answer: On successful completion of the final examination of the Arc Flash Safety Training (NFPA 70E) course, you will be able to immediately download, save, or print your Course Completion Certificate in PDF format.  ----- Question: Can the NFPA 70E guidelines be used worldwide?  Answer: The NFPA 70E is an internationally applied standard. The electrical safety-related work practices, safety-related maintenance requirements, and other administrative controls in NFPA 70E apply to all alternating and direct current systems. The requirements in NFPA 70E apply to all types of employees, employers, and facilities, including in-house employees, contract employees, contractor employees, general industrial workplaces, and construction workplaces regardless of their location in the world. (Reference: NFPA. (n.d.). NFPA Fact Sheet Electrical Safety in the Workplace. Website. https://www.nfpa.org/-/media/Files/Code-or-topic-fact-sheets/70E2021FactSheet.ashx)  ----- Question: Who should enroll in the Arc Flash Safety Training (NFPA 70E) course?  Answer: This Arc Flash Safety Training (NFPA 70E) course is designed for individuals who are exposed to arcing events such as arc flash or arc blasts when working in and around electrical conductors, equipment, and installations. Managers, supervisors, technicians, contractors, electrical engineers, electrical inspectors, HVAC installers, repair personnel, designers, janitorial staff, equipment operators, electricians, and safety managers may enroll for this safety training course.  ----- Question: What is the duration of the Arc Flash Safety Training (NFPA 70E) course? Answer: All our courses are designed to take a specific amount of time. However, some students may get through the Arc Flash Safety Training (NFPA 70E) course much faster than others. Our Arc Flash Safety Training (NFPA 70E) course will take around 2 hours to complete.  ----- Question: What is the relationship between OSHA’s standards and NFPA 70E?   Answer: The NFPA 70E is an internationally accepted American National Standard that defines electrical safety-related work practices. The US Department of Labor’s Occupational Safety and Health Administration (OSHA) looks to the prescriptive-based requirements of NFPA 70E to fulfill the performance-based requirements included in its standards. NFPA 70E fleshes out how the performance-based requirements in the OSHA standards can be met by providing and defining minimum standard industry practices necessary for electrical safety. OSHA is the law, and NFPA 70E outlines ways to comply with OSHA’s electrical safety requirements. This symbiotic relationship between NFPA 70E and OSHA electrical safety standards helps to increase safety in the workplace. (Reference: NFPA. (n.d.). NFPA Fact Sheet Electrical Safety in the Workplace. Website. https://www.nfpa.org/-/media/Files/Code-or-topic-fact-sheets/70E2021FactSheet.ashx)   ----- Question: How can I renew/refresh my Arc Flash Safety Training (NFPA 70E) certification?   Answer: This same Arc Flash Safety Training (NFPA 70E) course can be used for re-training/refresher training purposes.  ----- Question: Does the Arc Flash Safety Training (NFPA 70E) certification expire? Answer: Yes, the Arc Flash Safety Training (NFPA 70E) certification expires in 3 years.  ----- Question: Does the Arc Flash Safety Training (NFPA 70E) certificate have to be renewed according to the NFPA Guidelines?   Answer: Yes, the NFPA 70E Standard requires retraining at least once every three years.  ----- Question: Which of OSHA’s regulations is covered by the Arc Flash Safety Training (NFPA 70E) course? Answer: The course meets and exceeds the compliance requirements of OSHA’s electrical safety standards as codified in 29 CFR 1926 Subpart K for the construction industry and 29 CFR 1910 Subpart S for the general industry.  ----- \n",
      "Question: What do you know about NFPA 70.\n",
      "Kindly Answer Question:\n"
     ]
    }
   ],
   "source": [
    "temperature = 0.65\n",
    "query = \"What do you know about NFPA 70.\"\n",
    "ans = answer(text_model, query, db)"
   ]
  },
  {
   "cell_type": "code",
   "execution_count": 20,
   "metadata": {},
   "outputs": [
    {
     "data": {
      "text/plain": [
       "'NFPA 70 is the National Electrical Code (NEC), which is an internationally accepted American National Standard that defines minimum electrical safety standards for the safe installation of electrical wiring and equipment. The NEC is published by the National Fire Protection Association (NFPA).\\n\\nThe NEC is used by electrical contractors, engineers, and other professionals to design, install, and maintain electrical systems. It is also used by building inspectors to ensure that electrical systems are installed in accordance with the code.\\n\\nThe NEC is updated every three years to reflect new technologies and safety standards. The 2023 edition of the NEC is currently in development.\\n\\nThe NEC is a comprehensive code that covers a wide range of electrical safety topics, including:\\n\\n* Wiring methods and materials\\n* Grounding and bonding\\n* Overcurrent protection\\n* Arc-flash protection\\n* Electrical safety for the construction industry\\n* Electrical safety for the general industry\\n\\nThe NEC is a valuable resource for anyone who works with electrical systems. It is an essential tool for ensuring the safety of electrical installations.'"
      ]
     },
     "execution_count": 20,
     "metadata": {},
     "output_type": "execute_result"
    }
   ],
   "source": [
    "ans.candidates[0]['output']"
   ]
  },
  {
   "cell_type": "code",
   "execution_count": null,
   "metadata": {},
   "outputs": [],
   "source": []
  },
  {
   "cell_type": "code",
   "execution_count": null,
   "metadata": {},
   "outputs": [],
   "source": []
  }
 ],
 "metadata": {
  "kernelspec": {
   "display_name": "venv",
   "language": "python",
   "name": "python3"
  },
  "language_info": {
   "codemirror_mode": {
    "name": "ipython",
    "version": 3
   },
   "file_extension": ".py",
   "mimetype": "text/x-python",
   "name": "python",
   "nbconvert_exporter": "python",
   "pygments_lexer": "ipython3",
   "version": "3.11.1"
  },
  "orig_nbformat": 4
 },
 "nbformat": 4,
 "nbformat_minor": 2
}
